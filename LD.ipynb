{
  "nbformat": 4,
  "nbformat_minor": 0,
  "metadata": {
    "colab": {
      "provenance": []
    },
    "kernelspec": {
      "name": "python3",
      "display_name": "Python 3"
    },
    "language_info": {
      "name": "python"
    }
  },
  "cells": [
    {
      "cell_type": "markdown",
      "source": [
        "#Import"
      ],
      "metadata": {
        "id": "y9bbipVAmYYg"
      }
    },
    {
      "cell_type": "code",
      "execution_count": null,
      "metadata": {
        "id": "_Way2gE-lP0H"
      },
      "outputs": [],
      "source": [
        "import random\n",
        "import string\n",
        "import csv\n",
        "from nltk.corpus import words\n",
        "import nltk\n",
        "import time\n",
        "import matplotlib.pyplot as plt\n",
        "import numpy as np\n",
        "import os\n",
        "import heapq"
      ]
    },
    {
      "cell_type": "code",
      "source": [
        "from google.colab import drive\n",
        "drive.mount('/content/drive')"
      ],
      "metadata": {
        "colab": {
          "base_uri": "https://localhost:8080/"
        },
        "id": "UXducMAgEzNE",
        "outputId": "e58b3ddc-822e-41d0-9aa1-40568af26c03"
      },
      "execution_count": null,
      "outputs": [
        {
          "output_type": "stream",
          "name": "stdout",
          "text": [
            "Mounted at /content/drive\n"
          ]
        }
      ]
    },
    {
      "cell_type": "markdown",
      "source": [
        "#Generate data\n"
      ],
      "metadata": {
        "id": "YTEbC-wXwzKu"
      }
    },
    {
      "cell_type": "code",
      "source": [
        "# Function to introduce error in a word\n",
        "def introduce_errors(word, max_errors=2):\n",
        "    error_types = ['substitute', 'insert', 'delete']\n",
        "    num_errors = random.randint(1, min(max_errors, len(word)))\n",
        "    modified_word = list(word)\n",
        "\n",
        "    for _ in range(num_errors):\n",
        "        error_type = random.choice(error_types)\n",
        "        if not modified_word:\n",
        "            error_type = 'insert'\n",
        "\n",
        "        if error_type == 'substitute' and modified_word:\n",
        "            pos = random.randint(0, len(modified_word)-1)\n",
        "            modified_word[pos] = random.choice(string.ascii_lowercase + 'áàảãạâấầẩẫậăắằẳẵặéèẻẽẹêếềểễệíìỉĩịóòỏõọôốồổỗộơớờởỡợúùủũụưứừửữựýỳỷỹỵđ ')\n",
        "        elif error_type == 'insert':\n",
        "            pos = random.randint(0, len(modified_word))\n",
        "            modified_word.insert(pos, random.choice(string.ascii_lowercase + 'áàảãạâấầẩẫậăắằẳẵặéèẻẽẹêếềểễệíìỉĩịóòỏõọôốồổỗộơớờởỡợúùủũụưứừửữựýỳỷỹỵđ '))\n",
        "        elif error_type == 'delete' and modified_word:\n",
        "            pos = random.randint(0, len(modified_word)-1)\n",
        "            modified_word.pop(pos)\n",
        "\n",
        "    return ''.join(modified_word)\n",
        "\n",
        "\n",
        "def load_vietnamese_words(file_path):\n",
        "    with open(file_path, 'r', encoding='utf-8') as f:\n",
        "        reader = csv.reader(f)\n",
        "        next(reader)\n",
        "        return [row[0] for row in reader if row[0].strip()]\n",
        "\n",
        "def generate_incorrect_vietnamese_words(words, num_samples):\n",
        "    selected_words = random.sample(words, min(num_samples, len(words)))\n",
        "    incorrect_words = [introduce_errors(word) for word in selected_words]\n",
        "    return list(zip(selected_words, incorrect_words))\n",
        "\n",
        "def save_to_csv(data, filename):\n",
        "    with open(filename, 'w', newline='', encoding='utf-8') as f:\n",
        "        writer = csv.writer(f)\n",
        "        writer.writerow(['correct', 'incorrect'])\n",
        "        writer.writerows(data)"
      ],
      "metadata": {
        "id": "UlVtG0nul7os"
      },
      "execution_count": null,
      "outputs": []
    },
    {
      "cell_type": "markdown",
      "source": [
        "<br><br>"
      ],
      "metadata": {
        "id": "wkY8uBoPxrDG"
      }
    },
    {
      "cell_type": "code",
      "source": [
        "file_path = '/content/drive/MyDrive/Dataset/vietnamese_words.csv'\n",
        "output_file = 'vietnamese_test_incorrect_words.csv'\n",
        "num_samples = 100000\n",
        "\n",
        "if os.path.exists(output_file):\n",
        "    print(f\"{output_file} already exists, skipping generation\")\n",
        "else:\n",
        "    vietnamese_words = load_vietnamese_words(file_path)\n",
        "    data = generate_incorrect_vietnamese_words(vietnamese_words, num_samples)\n",
        "    save_to_csv(data, output_file)\n",
        "    print(f\"Generated {output_file} with {len(data)} pairs\")"
      ],
      "metadata": {
        "id": "GtmgbNnQPpMj",
        "colab": {
          "base_uri": "https://localhost:8080/"
        },
        "outputId": "b9a1c459-632b-472f-e7d9-13200c71f839"
      },
      "execution_count": null,
      "outputs": [
        {
          "output_type": "stream",
          "name": "stdout",
          "text": [
            "Generated vietnamese_test_incorrect_words.csv with 73160 pairs\n"
          ]
        }
      ]
    },
    {
      "cell_type": "markdown",
      "source": [
        "- Gen 1 bộ data vietnamese_words.csv gồm 73160 từ sai lệch so với từ điển"
      ],
      "metadata": {
        "id": "nGKytb5KcvyP"
      }
    },
    {
      "cell_type": "code",
      "source": [
        "with open(output_file, 'r', encoding='utf-8') as f:\n",
        "    reader = csv.reader(f)\n",
        "    next(reader)\n",
        "    for i, row in enumerate(reader):\n",
        "        if i >= 5:\n",
        "            break\n",
        "        print(f\"Correct: {row[0]}, Incorrect: {row[1]}\")"
      ],
      "metadata": {
        "colab": {
          "base_uri": "https://localhost:8080/"
        },
        "id": "dzeX4QOfPwAT",
        "outputId": "692a49a0-ad63-4367-b76b-d8f84166cd23"
      },
      "execution_count": null,
      "outputs": [
        {
          "output_type": "stream",
          "name": "stdout",
          "text": [
            "Correct: xà cừ, Incorrect: xà ệừ\n",
            "Correct: tranh Tết, Incorrect: tanh Tết\n",
            "Correct: đẩy tạ, Incorrect: đãy ạ\n",
            "Correct: quán quân, Incorrect: quáb quân\n",
            "Correct: chia lô, Incorrect: chalô\n"
          ]
        }
      ]
    },
    {
      "cell_type": "markdown",
      "source": [
        "#LD"
      ],
      "metadata": {
        "id": "rQAZYK5Pqo7M"
      }
    },
    {
      "cell_type": "code",
      "source": [
        "def levenshtein_distance(s1, s2):\n",
        "    if len(s1) < len(s2):\n",
        "        s1, s2 = s2, s1\n",
        "\n",
        "    if len(s2) == 0:\n",
        "        return len(s1)\n",
        "\n",
        "    previous_row = range(len(s2) + 1)\n",
        "    for i, c1 in enumerate(s1):\n",
        "        current_row = [i + 1]\n",
        "        for j, c2 in enumerate(s2):\n",
        "            insertions = previous_row[j + 1] + 1\n",
        "            deletions = current_row[j] + 1\n",
        "            substitutions = previous_row[j] + (c1 != c2)\n",
        "            current_row.append(min(insertions, deletions, substitutions))\n",
        "        previous_row = current_row\n",
        "\n",
        "    return previous_row[-1]\n",
        "\n",
        "def process_vietnamese_levenshtein(input_file, output_file):\n",
        "    if os.path.exists(output_file):\n",
        "        print(f\"{output_file} already exists, skipping generation\")\n",
        "        return\n",
        "    results = []\n",
        "    with open(input_file, 'r', encoding='utf-8') as f:\n",
        "        reader = csv.reader(f)\n",
        "        next(reader)\n",
        "        for row in reader:\n",
        "            correct, incorrect = row\n",
        "            distance = levenshtein_distance(correct, incorrect)\n",
        "            results.append([correct, incorrect, distance])\n",
        "\n",
        "    with open(output_file, 'w', newline='', encoding='utf-8') as f:\n",
        "        writer = csv.writer(f)\n",
        "        writer.writerow(['correct', 'incorrect', 'levenshtein_distance'])\n",
        "        writer.writerows(results)\n",
        "    print(f\"Generated {output_file}\")\n",
        "\n",
        "\n",
        "process_vietnamese_levenshtein('vietnamese_test_incorrect_words.csv', 'vietnamese_levenshtein_distances.csv')\n",
        "\n",
        "\n",
        "print(\"Sample Levenshtein distances (first 5):\")\n",
        "with open('vietnamese_levenshtein_distances.csv', 'r', encoding='utf-8') as f:\n",
        "    reader = csv.reader(f)\n",
        "    next(reader)\n",
        "    for i, row in enumerate(reader):\n",
        "        if i >= 5:\n",
        "            break\n",
        "        print(f\"Correct: {row[0]}, Incorrect: {row[1]}, Distance: {row[2]}\")"
      ],
      "metadata": {
        "colab": {
          "base_uri": "https://localhost:8080/"
        },
        "id": "yiatyI-etENv",
        "outputId": "1ba17d77-ca2e-4e8a-dd92-874ef2ebc21b"
      },
      "execution_count": null,
      "outputs": [
        {
          "output_type": "stream",
          "name": "stdout",
          "text": [
            "Generated vietnamese_levenshtein_distances.csv\n",
            "Sample Levenshtein distances (first 5):\n",
            "Correct: xà cừ, Incorrect: xà ệừ, Distance: 1\n",
            "Correct: tranh Tết, Incorrect: tanh Tết, Distance: 1\n",
            "Correct: đẩy tạ, Incorrect: đãy ạ, Distance: 2\n",
            "Correct: quán quân, Incorrect: quáb quân, Distance: 1\n",
            "Correct: chia lô, Incorrect: chalô, Distance: 2\n"
          ]
        }
      ]
    },
    {
      "cell_type": "markdown",
      "source": [
        "<br><br>"
      ],
      "metadata": {
        "id": "6kQr-pOhxvg-"
      }
    },
    {
      "cell_type": "markdown",
      "source": [
        "#MLD"
      ],
      "metadata": {
        "id": "HfoAgYDNnbHf"
      }
    },
    {
      "cell_type": "code",
      "source": [
        "CHAR_GROUPS = [\n",
        "    {'O', 'D', 'Q'},\n",
        "    {'o', 'd', 'q'},\n",
        "    {'I', 'J', 'L', 'T'},\n",
        "    {'U', 'V', 'Ư'},\n",
        "    {'u', 'v', 'ư'},\n",
        "    {'F', 'P'},\n",
        "    {'C', 'G'},\n",
        "    {'đ', 'd'},\n",
        "    {'ê', 'e', 'é', 'è', 'ẹ'},\n",
        "    {'ô', 'o', 'ó', 'ò', 'ọ'},\n",
        "    {'ư', 'u', 'ú', 'ù', 'ụ'},\n",
        "    {'á', 'a', 'à', 'ả', 'ã', 'ạ'}\n",
        "]\n",
        "CHAR_TO_GROUP = {}\n",
        "for idx, group in enumerate(CHAR_GROUPS):\n",
        "    for char in group:\n",
        "        CHAR_TO_GROUP[char] = idx\n",
        "\n",
        "def get_substitution_cost(c1, c2):\n",
        "    if c1 == c2:\n",
        "        return 0\n",
        "    group1 = CHAR_TO_GROUP.get(c1, -1)\n",
        "    group2 = CHAR_TO_GROUP.get(c2, -1)\n",
        "    return 0.4 if group1 != -1 and group1 == group2 else 1\n",
        "\n",
        "def modified_levenshtein_distance(s1, s2, threshold=float('inf')):\n",
        "    if len(s1) < len(s2):\n",
        "        s1, s2 = s2, s1\n",
        "\n",
        "    if len(s2) == 0:\n",
        "        return len(s1)\n",
        "\n",
        "    dp = [[0.0] * (len(s2) + 1) for _ in range(len(s1) + 1)]\n",
        "    for i in range(len(s1) + 1):\n",
        "        dp[i][0] = i\n",
        "    for j in range(len(s2) + 1):\n",
        "        dp[0][j] = j\n",
        "\n",
        "    for i in range(1, len(s1) + 1):\n",
        "        for j in range(1, len(s2) + 1):\n",
        "            cost = get_substitution_cost(s1[i-1], s2[j-1])\n",
        "            dp[i][j] = min(\n",
        "                dp[i-1][j] + 1,\n",
        "                dp[i][j-1] + 1,\n",
        "                dp[i-1][j-1] + cost\n",
        "            )\n",
        "            if dp[i][j] > threshold:\n",
        "                return float('inf')\n",
        "\n",
        "    return dp[len(s1)][len(s2)]\n",
        "\n",
        "def print_mld_dp_table(s1, s2):\n",
        "    m, n = len(s2), len(s1)\n",
        "    dp = [[0.0] * (n + 1) for _ in range(m + 1)]\n",
        "\n",
        "    for j in range(n + 1):\n",
        "        dp[0][j] = j\n",
        "    for i in range(m + 1):\n",
        "        dp[i][0] = i\n",
        "\n",
        "    for i in range(1, m + 1):\n",
        "        for j in range(1, n + 1):\n",
        "            cost = get_substitution_cost(s2[i-1], s1[j-1])\n",
        "            dp[i][j] = min(\n",
        "                dp[i-1][j] + 1,\n",
        "                dp[i][j-1] + 1,\n",
        "                dp[i-1][j-1] + cost\n",
        "            )\n",
        "\n",
        "\n",
        "    print(f\"\\nMLD DP Table for '{s1}' -> '{s2}':\")\n",
        "    s1_display = [char if char != ' ' else '␣' for char in s1]\n",
        "    s2_display = [char if char != ' ' else '␣' for char in s2]\n",
        "    print(\"   \", \"  \".join([' '] + s1_display))\n",
        "    for i in range(m + 1):\n",
        "        row = [s2_display[i-1] if i > 0 else ' ']\n",
        "        row.extend([f\"{dp[i][j]:.1f}\" for j in range(n + 1)])\n",
        "        print(\"  \".join(row))\n",
        "\n",
        "def process_vietnamese_mld(input_file, output_file):\n",
        "    if os.path.exists(output_file):\n",
        "        print(f\"{output_file} already exists, skipping generation\")\n",
        "        return\n",
        "    results = []\n",
        "    with open(input_file, 'r', encoding='utf-8') as f:\n",
        "        reader = csv.reader(f)\n",
        "        next(reader)\n",
        "        for row in reader:\n",
        "            correct, incorrect = row\n",
        "            distance = modified_levenshtein_distance(correct, incorrect)\n",
        "            results.append([correct, incorrect, distance])\n",
        "\n",
        "    with open(output_file, 'w', newline='', encoding='utf-8') as f:\n",
        "        writer = csv.writer(f)\n",
        "        writer.writerow(['correct', 'incorrect', 'mld_distance'])\n",
        "        writer.writerows(results)\n",
        "    print(f\"Generated {output_file}\")\n",
        "\n",
        "\n",
        "process_vietnamese_mld('vietnamese_test_incorrect_words.csv', 'vietnamese_mld_distances.csv')\n",
        "\n",
        "\n",
        "print(\"Sample MLD distances (first 5):\")\n",
        "with open('vietnamese_mld_distances.csv', 'r', encoding='utf-8') as f:\n",
        "    reader = csv.reader(f)\n",
        "    next(reader)\n",
        "    for i, row in enumerate(reader):\n",
        "        if i >= 5:\n",
        "            break\n",
        "        print(f\"Correct: {row[0]}, Incorrect: {row[1]}, Distance: {row[2]}\")\n",
        "\n",
        "\n",
        "print_mld_dp_table(\"học sinh\", \"học sịnh\")"
      ],
      "metadata": {
        "colab": {
          "base_uri": "https://localhost:8080/"
        },
        "id": "S0G3MsgUtF6L",
        "outputId": "04722a46-9f43-4ba5-f1e1-c9b3792c6c4f"
      },
      "execution_count": null,
      "outputs": [
        {
          "output_type": "stream",
          "name": "stdout",
          "text": [
            "Generated vietnamese_mld_distances.csv\n",
            "Sample MLD distances (first 5):\n",
            "Correct: xà cừ, Incorrect: xà ệừ, Distance: 1\n",
            "Correct: tranh Tết, Incorrect: tanh Tết, Distance: 1\n",
            "Correct: đẩy tạ, Incorrect: đãy ạ, Distance: 2\n",
            "Correct: quán quân, Incorrect: quáb quân, Distance: 1\n",
            "Correct: chia lô, Incorrect: chalô, Distance: 2\n",
            "\n",
            "MLD DP Table for 'học sinh' -> 'học sịnh':\n",
            "       h  ọ  c  ␣  s  i  n  h\n",
            "   0.0  1.0  2.0  3.0  4.0  5.0  6.0  7.0  8.0\n",
            "h  1.0  0.0  1.0  2.0  3.0  4.0  5.0  6.0  7.0\n",
            "ọ  2.0  1.0  0.0  1.0  2.0  3.0  4.0  5.0  6.0\n",
            "c  3.0  2.0  1.0  0.0  1.0  2.0  3.0  4.0  5.0\n",
            "␣  4.0  3.0  2.0  1.0  0.0  1.0  2.0  3.0  4.0\n",
            "s  5.0  4.0  3.0  2.0  1.0  0.0  1.0  2.0  3.0\n",
            "ị  6.0  5.0  4.0  3.0  2.0  1.0  1.0  2.0  3.0\n",
            "n  7.0  6.0  5.0  4.0  3.0  2.0  2.0  1.0  2.0\n",
            "h  8.0  7.0  6.0  5.0  4.0  3.0  3.0  2.0  1.0\n"
          ]
        }
      ]
    },
    {
      "cell_type": "markdown",
      "source": [
        "<br><br>"
      ],
      "metadata": {
        "id": "K8FrDYHmxxV2"
      }
    },
    {
      "cell_type": "markdown",
      "source": [
        "#Accuracy"
      ],
      "metadata": {
        "id": "iwJeTG5zn037"
      }
    },
    {
      "cell_type": "code",
      "source": [
        "def calculate_accuracy(distance_file, threshold=1):\n",
        "    correct_count = 0\n",
        "    total_count = 0\n",
        "\n",
        "    with open(distance_file, 'r', encoding='utf-8') as f:\n",
        "        reader = csv.reader(f)\n",
        "        next(reader)\n",
        "        for row in reader:\n",
        "            correct, incorrect, distance = row\n",
        "            distance = float(distance)\n",
        "            if distance <= threshold:\n",
        "                correct_count += 1\n",
        "            total_count += 1\n",
        "\n",
        "    accuracy = correct_count / total_count if total_count > 0 else 0\n",
        "    return accuracy\n",
        "\n",
        "levenshtein_accuracy = calculate_accuracy('vietnamese_levenshtein_distances.csv')\n",
        "mld_accuracy = calculate_accuracy('vietnamese_mld_distances.csv')\n",
        "\n",
        "print(f\"Accuracy based on Levenshtein Distance (threshold={1}): {levenshtein_accuracy:.2%}\")\n",
        "print(f\"Accuracy based on Modified Levenshtein Distance (threshold={1}): {mld_accuracy:.2%}\")\n",
        "\n",
        "custom_threshold_accuracy = calculate_accuracy('vietnamese_mld_distances.csv', threshold=2)\n",
        "print(f\"Accuracy with custom threshold=2 (MLD): {custom_threshold_accuracy:.2%}\")"
      ],
      "metadata": {
        "colab": {
          "base_uri": "https://localhost:8080/"
        },
        "id": "MStcVOQcua4H",
        "outputId": "f4a47d60-8306-408e-d5ca-cf64eb1e5f74"
      },
      "execution_count": null,
      "outputs": [
        {
          "output_type": "stream",
          "name": "stdout",
          "text": [
            "Accuracy based on Levenshtein Distance (threshold=1): 55.22%\n",
            "Accuracy based on Modified Levenshtein Distance (threshold=1): 55.22%\n",
            "Accuracy with custom threshold=2 (MLD): 100.00%\n"
          ]
        }
      ]
    },
    {
      "cell_type": "markdown",
      "source": [
        "- Threshold = 1:\n",
        "  - Cả LD và MLD có độ chính xác 55.22%, nghĩa là 55.22% các cặp (correct, incorrect) có dist ≤ 1.\n",
        "  - Sự giống nhau giữa LD và MLD (55.22%) cho thấy MLD chưa tận dụng được ưu thế giảm cost, có thể CHARS_GROUP chưa được tối ưu\n",
        "\n",
        "- Threshold = 2:\n",
        "  - Độ chính xác đạt 100%, nghĩa là tất cả các cặp trong tập dữ liệu vietnamese_test_incorrect_words.csv  có khoảng cách MLD ≤ 2\n",
        "  - Cải thiện độ chính xác lên 100%, phù hợp để sửa lỗi chính tả với các lỗi nhỏ (chèn/xóa/thay thế 1-2 ký tự)."
      ],
      "metadata": {
        "id": "Epdi4arykRPg"
      }
    },
    {
      "cell_type": "markdown",
      "source": [
        "<br><br>"
      ],
      "metadata": {
        "id": "zCjJ_j25xyie"
      }
    },
    {
      "cell_type": "markdown",
      "source": [
        "#Time complexity"
      ],
      "metadata": {
        "id": "iQPcRoRln2uv"
      }
    },
    {
      "cell_type": "code",
      "source": [
        "def measure_ld_time(s1, s2):\n",
        "    start_time = time.time()\n",
        "    def levenshtein_distance(s1, s2):\n",
        "        if len(s1) < len(s2):\n",
        "            s1, s2 = s2, s1\n",
        "        if len(s2) == 0:\n",
        "            return len(s1)\n",
        "        previous_row = range(len(s2) + 1)\n",
        "        for i, c1 in enumerate(s1):\n",
        "            current_row = [i + 1]\n",
        "            for j, c2 in enumerate(s2):\n",
        "                insertions = previous_row[j + 1] + 1\n",
        "                deletions = current_row[j] + 1\n",
        "                substitutions = previous_row[j] + (c1 != c2)\n",
        "                current_row.append(min(insertions, deletions, substitutions))\n",
        "            previous_row = current_row\n",
        "        return previous_row[-1]\n",
        "    levenshtein_distance(s1, s2)\n",
        "    return time.time() - start_time\n",
        "\n",
        "def measure_mld_time(s1, s2):\n",
        "    start_time = time.time()\n",
        "    CHAR_GROUPS = [\n",
        "        {'O', 'D', 'Q'},\n",
        "        {'o', 'd', 'q'},\n",
        "        {'I', 'J', 'L', 'T'},\n",
        "        {'U', 'V', 'Ư'},\n",
        "        {'u', 'v', 'ư'},\n",
        "        {'F', 'P'},\n",
        "        {'C', 'G'},\n",
        "        {'đ', 'd'},\n",
        "        {'ê', 'e', 'é', 'è', 'ẹ'},\n",
        "        {'ô', 'o', 'ó', 'ò', 'ọ'},\n",
        "        {'ư', 'u', 'ú', 'ù', 'ụ'},\n",
        "        {'á', 'a', 'à', 'ả', 'ã', 'ạ'}\n",
        "    ]\n",
        "    CHAR_TO_GROUP = {}\n",
        "    for idx, group in enumerate(CHAR_GROUPS):\n",
        "        for char in group:\n",
        "            CHAR_TO_GROUP[char] = idx\n",
        "\n",
        "    def get_substitution_cost(c1, c2):\n",
        "        if c1 == c2:\n",
        "            return 0\n",
        "        group1 = CHAR_TO_GROUP.get(c1, -1)\n",
        "        group2 = CHAR_TO_GROUP.get(c2, -1)\n",
        "        return 0.4 if group1 != -1 and group1 == group2 else 1\n",
        "\n",
        "    def modified_levenshtein_distance(s1, s2, threshold=float('inf')):\n",
        "        if len(s1) < len(s2):\n",
        "            s1, s2 = s2, s1\n",
        "        if len(s2) == 0:\n",
        "            return len(s1)\n",
        "        dp = [[0.0] * (len(s2) + 1) for _ in range(len(s1) + 1)]\n",
        "        for i in range(len(s1) + 1):\n",
        "            dp[i][0] = i\n",
        "        for j in range(len(s2) + 1):\n",
        "            dp[0][j] = j\n",
        "        for i in range(1, len(s1) + 1):\n",
        "            for j in range(1, len(s2) + 1):\n",
        "                cost = get_substitution_cost(s1[i-1], s2[j-1])\n",
        "                dp[i][j] = min(\n",
        "                    dp[i-1][j] + 1,\n",
        "                    dp[i][j-1] + 1,\n",
        "                    dp[i-1][j-1] + cost\n",
        "                )\n",
        "                if dp[i][j] > threshold:\n",
        "                    return float('inf')\n",
        "        return dp[len(s1)][len(s2)]\n",
        "\n",
        "    modified_levenshtein_distance(s1, s2)\n",
        "    return time.time() - start_time\n",
        "\n",
        "lengths = range(5, 2000, 200)\n",
        "ld_times = []\n",
        "mld_times = []\n",
        "\n",
        "for length in lengths:\n",
        "    s1 = ''.join(random.choices(string.ascii_lowercase + 'áàảãạâấầẩẫậăắằẳẵặéèẻẽẹêếềểễệíìỉĩịóòỏõọôốồổỗộơớờởỡợúùủũụưứừửữựýỳỷỹỵđ ', k=length))\n",
        "    s2 = ''.join(random.choices(string.ascii_lowercase + 'áàảãạâấầẩẫậăắằẳẵặéèẻẽẹêếềểễệíìỉĩịóòỏõọôốồổỗộơớờởỡợúùủũụưứừửữựýỳỷỹỵđ ', k=length))\n",
        "    ld_times.append(measure_ld_time(s1, s2))\n",
        "    mld_times.append(measure_mld_time(s1, s2))\n",
        "\n",
        "\n",
        "plt.plot(lengths, ld_times, label='Levenshtein Distance', marker='o')\n",
        "plt.plot(lengths, mld_times, label='Modified Levenshtein Distance', marker='o')\n",
        "plt.xlabel('String Length')\n",
        "plt.ylabel('Execution Time (seconds)')\n",
        "plt.title('Time Complexity Comparison: LD vs MLD')\n",
        "plt.legend()\n",
        "plt.grid(True)\n",
        "plt.show()\n",
        "\n",
        "\n",
        "print(f\"Average LD time: {np.mean(ld_times):.6f} seconds\")\n",
        "print(f\"Average MLD time: {np.mean(mld_times):.6f} seconds\")\n",
        "\n",
        "def calculate_average_distances(input_file):\n",
        "    ld_distances = []\n",
        "    mld_distances = []\n",
        "    with open(input_file, 'r', encoding='utf-8') as f:\n",
        "        reader = csv.reader(f)\n",
        "        next(reader)\n",
        "        for row in reader:\n",
        "            correct, incorrect, ld_dist = row\n",
        "            ld_distances.append(float(ld_dist))\n",
        "\n",
        "    with open('vietnamese_mld_distances.csv', 'r', encoding='utf-8') as f:\n",
        "        reader = csv.reader(f)\n",
        "        next(reader)  #\n",
        "        for row in reader:\n",
        "            correct, incorrect, mld_dist = row\n",
        "            mld_distances.append(float(mld_dist))\n",
        "\n",
        "    return np.mean(ld_distances), np.mean(mld_distances)\n",
        "\n",
        "ld_avg, mld_avg = calculate_average_distances('vietnamese_levenshtein_distances.csv')\n",
        "print(f\"Average Levenshtein Distance: {ld_avg:.2f}\")\n",
        "print(f\"Average Modified Levenshtein Distance: {mld_avg:.2f}\")\n",
        "print(f\"Difference (LD - MLD): {ld_avg - mld_avg:.2f}\")"
      ],
      "metadata": {
        "colab": {
          "base_uri": "https://localhost:8080/",
          "height": 559
        },
        "id": "AhsNSSxhRcJl",
        "outputId": "9a9c9602-9394-43f2-99b3-de53b5720e9d"
      },
      "execution_count": null,
      "outputs": [
        {
          "output_type": "display_data",
          "data": {
            "text/plain": [
              "<Figure size 640x480 with 1 Axes>"
            ],
            "image/png": "[encoded data removed]"
          },
          "metadata": {}
        },
        {
          "output_type": "stream",
          "name": "stdout",
          "text": [
            "Average LD time: 0.575917 seconds\n",
            "Average MLD time: 1.163352 seconds\n",
            "Average Levenshtein Distance: 1.44\n",
            "Average Modified Levenshtein Distance: 1.44\n",
            "Difference (LD - MLD): 0.00\n"
          ]
        }
      ]
    },
    {
      "cell_type": "markdown",
      "source": [
        "#Spell checking\n",
        "\n"
      ],
      "metadata": {
        "id": "Mo2XrKvoT7Xh"
      }
    },
    {
      "cell_type": "code",
      "source": [
        "def load_dictionary(file_path):\n",
        "    with open(file_path, 'r', encoding='utf-8') as f:\n",
        "        reader = csv.reader(f)\n",
        "        next(reader)\n",
        "        return [row[0] for row in reader if row[0].strip()]\n",
        "\n",
        "def correct_spelling_top_k(input_word, dictionary, k=3):\n",
        "    distances = []\n",
        "    for word in dictionary:\n",
        "        distance = modified_levenshtein_distance(input_word, word)\n",
        "        heapq.heappush(distances, (distance, word))\n",
        "    top_k = heapq.nsmallest(k, distances)\n",
        "    return [(word, distance) for distance, word in top_k]\n",
        "\n",
        "\n",
        "dictionary_file = '/content/drive/MyDrive/Dataset/vietnamese_words.csv'\n",
        "dictionary = load_dictionary(dictionary_file)\n",
        "\n",
        "while True:\n",
        "    input_word = input(\"Nhập từ sai (nhập 'q' để thoát): \").strip().lower()\n",
        "    if input_word == 'q':\n",
        "        break\n",
        "    if not input_word:\n",
        "        print(\"Vui lòng nhập từ!\")\n",
        "        continue\n",
        "    k = 3\n",
        "    suggestions = correct_spelling_top_k(input_word, dictionary, k)\n",
        "    print(f\"Từ sai: {input_word}\")\n",
        "    print(f\"Top-{k} gợi ý sửa (dựa trên MLD):\")\n",
        "    for word, distance in suggestions:\n",
        "        print(f\"- {word}: khoảng cách MLD = {distance:.2f}\")\n",
        "    print()"
      ],
      "metadata": {
        "id": "sLwAAmdGT-Bj",
        "colab": {
          "base_uri": "https://localhost:8080/"
        },
        "outputId": "11ba394a-ae5a-4e43-b06f-fa3339fd7ebc"
      },
      "execution_count": null,
      "outputs": [
        {
          "name": "stdout",
          "output_type": "stream",
          "text": [
            "Nhập từ sai (nhập 'q' để thoát): q\n"
          ]
        }
      ]
    },
    {
      "cell_type": "markdown",
      "source": [
        "#Top-k Suggestions"
      ],
      "metadata": {
        "id": "VBz0hDpBYW5j"
      }
    },
    {
      "cell_type": "code",
      "source": [
        "def correct_spelling_top_k(input_word, dictionary, k=3):\n",
        "    distances = []\n",
        "    for word in dictionary:\n",
        "        distance = modified_levenshtein_distance(input_word, word)\n",
        "        heapq.heappush(distances, (distance, word))\n",
        "    top_k = heapq.nsmallest(k, distances)\n",
        "    return [(word, distance) for distance, word in top_k]\n",
        "\n",
        "\n",
        "dictionary_file = '/content/drive/MyDrive/Dataset/vietnamese_words.csv'\n",
        "dictionary = load_dictionary(dictionary_file)\n",
        "\n",
        "\n",
        "while True:\n",
        "    input_word = input(\"Nhập từ sai (nhập 'q' để thoát): \").strip().lower()\n",
        "    if input_word == 'q':\n",
        "        break\n",
        "    if not input_word:\n",
        "        print(\"Vui lòng nhập từ!\")\n",
        "        continue\n",
        "    k = 3\n",
        "    suggestions = correct_spelling_top_k(input_word, dictionary, k)\n",
        "    print(f\"Từ sai: {input_word}\")\n",
        "    print(f\"Top-{k} gợi ý sửa (dựa trên MLD):\")\n",
        "    for word, distance in suggestions:\n",
        "        print(f\"- {word}: khoảng cách MLD = {distance:.2f}\")\n",
        "    print()"
      ],
      "metadata": {
        "id": "nUgmCmJhUcRR",
        "colab": {
          "base_uri": "https://localhost:8080/"
        },
        "outputId": "11a95165-1c21-4509-b493-3605bfa951a3"
      },
      "execution_count": null,
      "outputs": [
        {
          "name": "stdout",
          "output_type": "stream",
          "text": [
            "Nhập từ sai (nhập 'q' để thoát): q\n"
          ]
        }
      ]
    }
  ]
}